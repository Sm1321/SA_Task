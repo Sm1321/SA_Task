{
 "cells": [
  {
   "cell_type": "markdown",
   "metadata": {},
   "source": [
    "## Task"
   ]
  },
  {
   "cell_type": "markdown",
   "metadata": {},
   "source": [
    "## Table1 Infomation Having the information \n",
    "### Main Table\n",
    "- Wk,\t\n",
    "- Employee,\t\n",
    "- Project\t%Time\n",
    "\n"
   ]
  },
  {
   "cell_type": "code",
   "execution_count": 81,
   "metadata": {},
   "outputs": [],
   "source": [
    "### Import the libraries\n",
    "import pandas as pd \n",
    "import numpy as np"
   ]
  },
  {
   "cell_type": "code",
   "execution_count": 82,
   "metadata": {},
   "outputs": [],
   "source": [
    "## Create a DF for the Table 1\n",
    "# Sample DataFrames\n",
    "main_table = pd.DataFrame({\n",
    "    'Wk': [1, 1, 1, 2, 2],\n",
    "    'Employee': ['Alice', 'Bob', 'Alice', 'Charlie', 'Bob'],\n",
    "    'Project': ['ProjA', 'ProjB', 'ProjC', 'ProjD', 'ProjE'],\n",
    "    '%Time': [50, 60, 50, 80, 40]\n",
    "})\n"
   ]
  },
  {
   "cell_type": "code",
   "execution_count": 83,
   "metadata": {},
   "outputs": [
    {
     "data": {
      "text/html": [
       "<div>\n",
       "<style scoped>\n",
       "    .dataframe tbody tr th:only-of-type {\n",
       "        vertical-align: middle;\n",
       "    }\n",
       "\n",
       "    .dataframe tbody tr th {\n",
       "        vertical-align: top;\n",
       "    }\n",
       "\n",
       "    .dataframe thead th {\n",
       "        text-align: right;\n",
       "    }\n",
       "</style>\n",
       "<table border=\"1\" class=\"dataframe\">\n",
       "  <thead>\n",
       "    <tr style=\"text-align: right;\">\n",
       "      <th></th>\n",
       "      <th>Wk</th>\n",
       "      <th>Employee</th>\n",
       "      <th>Project</th>\n",
       "      <th>%Time</th>\n",
       "    </tr>\n",
       "  </thead>\n",
       "  <tbody>\n",
       "    <tr>\n",
       "      <th>0</th>\n",
       "      <td>1</td>\n",
       "      <td>Alice</td>\n",
       "      <td>ProjA</td>\n",
       "      <td>50</td>\n",
       "    </tr>\n",
       "    <tr>\n",
       "      <th>1</th>\n",
       "      <td>1</td>\n",
       "      <td>Bob</td>\n",
       "      <td>ProjB</td>\n",
       "      <td>60</td>\n",
       "    </tr>\n",
       "    <tr>\n",
       "      <th>2</th>\n",
       "      <td>1</td>\n",
       "      <td>Alice</td>\n",
       "      <td>ProjC</td>\n",
       "      <td>50</td>\n",
       "    </tr>\n",
       "    <tr>\n",
       "      <th>3</th>\n",
       "      <td>2</td>\n",
       "      <td>Charlie</td>\n",
       "      <td>ProjD</td>\n",
       "      <td>80</td>\n",
       "    </tr>\n",
       "    <tr>\n",
       "      <th>4</th>\n",
       "      <td>2</td>\n",
       "      <td>Bob</td>\n",
       "      <td>ProjE</td>\n",
       "      <td>40</td>\n",
       "    </tr>\n",
       "  </tbody>\n",
       "</table>\n",
       "</div>"
      ],
      "text/plain": [
       "   Wk Employee Project  %Time\n",
       "0   1    Alice   ProjA     50\n",
       "1   1      Bob   ProjB     60\n",
       "2   1    Alice   ProjC     50\n",
       "3   2  Charlie   ProjD     80\n",
       "4   2      Bob   ProjE     40"
      ]
     },
     "execution_count": 83,
     "metadata": {},
     "output_type": "execute_result"
    }
   ],
   "source": [
    "main_table"
   ]
  },
  {
   "cell_type": "markdown",
   "metadata": {},
   "source": [
    "## Table 2 Infomation \n",
    "### Employee List\n",
    "- Name\t\n",
    "- Position\t\n",
    "- Skills\t\n",
    "- CurrentStatus\n"
   ]
  },
  {
   "cell_type": "code",
   "execution_count": 84,
   "metadata": {},
   "outputs": [],
   "source": [
    "employee_list = pd.DataFrame({\n",
    "    'Name': ['Alice', 'Bob', 'Charlie'],\n",
    "    'Position': ['Manager', 'Developer', 'Analyst'],\n",
    "    'Skills': ['Python, ML', 'Java, SQL', 'R, Analytics'],\n",
    "    'CurrentStatus': ['Active', 'Active', 'Active']\n",
    "})\n"
   ]
  },
  {
   "cell_type": "code",
   "execution_count": 85,
   "metadata": {},
   "outputs": [
    {
     "data": {
      "text/html": [
       "<div>\n",
       "<style scoped>\n",
       "    .dataframe tbody tr th:only-of-type {\n",
       "        vertical-align: middle;\n",
       "    }\n",
       "\n",
       "    .dataframe tbody tr th {\n",
       "        vertical-align: top;\n",
       "    }\n",
       "\n",
       "    .dataframe thead th {\n",
       "        text-align: right;\n",
       "    }\n",
       "</style>\n",
       "<table border=\"1\" class=\"dataframe\">\n",
       "  <thead>\n",
       "    <tr style=\"text-align: right;\">\n",
       "      <th></th>\n",
       "      <th>Name</th>\n",
       "      <th>Position</th>\n",
       "      <th>Skills</th>\n",
       "      <th>CurrentStatus</th>\n",
       "    </tr>\n",
       "  </thead>\n",
       "  <tbody>\n",
       "    <tr>\n",
       "      <th>0</th>\n",
       "      <td>Alice</td>\n",
       "      <td>Manager</td>\n",
       "      <td>Python, ML</td>\n",
       "      <td>Active</td>\n",
       "    </tr>\n",
       "    <tr>\n",
       "      <th>1</th>\n",
       "      <td>Bob</td>\n",
       "      <td>Developer</td>\n",
       "      <td>Java, SQL</td>\n",
       "      <td>Active</td>\n",
       "    </tr>\n",
       "    <tr>\n",
       "      <th>2</th>\n",
       "      <td>Charlie</td>\n",
       "      <td>Analyst</td>\n",
       "      <td>R, Analytics</td>\n",
       "      <td>Active</td>\n",
       "    </tr>\n",
       "  </tbody>\n",
       "</table>\n",
       "</div>"
      ],
      "text/plain": [
       "      Name   Position        Skills CurrentStatus\n",
       "0    Alice    Manager    Python, ML        Active\n",
       "1      Bob  Developer     Java, SQL        Active\n",
       "2  Charlie    Analyst  R, Analytics        Active"
      ]
     },
     "execution_count": 85,
     "metadata": {},
     "output_type": "execute_result"
    }
   ],
   "source": [
    "employee_list "
   ]
  },
  {
   "cell_type": "markdown",
   "metadata": {},
   "source": [
    "### Table 3 Infomation\n",
    "\n",
    "### Project List\n",
    "- Project\t\n",
    "- Description\t\n",
    "- StartDate\t\n",
    "- ExpWeeks\t\n",
    "- Internal/External\t\n",
    "- Status\n"
   ]
  },
  {
   "cell_type": "code",
   "execution_count": 86,
   "metadata": {},
   "outputs": [],
   "source": [
    "\n",
    "project_list = pd.DataFrame({\n",
    "    'Project': ['ProjA', 'ProjB', 'ProjC', 'ProjD', 'ProjE'],\n",
    "    'Description': ['Analysis', 'Development', 'Testing', 'Reporting', 'Design'],\n",
    "    'StartDate': ['2024-01-01', '2024-02-01', '2024-03-01', '2024-04-01', '2024-05-01'],\n",
    "    'ExpWeeks': [4, 6, 8, 3, 5],\n",
    "    'Internal/External': ['Internal', 'External', 'Internal', 'External', 'Internal'],\n",
    "    'Status': ['Active', 'Completed', 'On Hold', 'Active', 'Active']\n",
    "})"
   ]
  },
  {
   "cell_type": "code",
   "execution_count": 87,
   "metadata": {},
   "outputs": [
    {
     "data": {
      "text/html": [
       "<div>\n",
       "<style scoped>\n",
       "    .dataframe tbody tr th:only-of-type {\n",
       "        vertical-align: middle;\n",
       "    }\n",
       "\n",
       "    .dataframe tbody tr th {\n",
       "        vertical-align: top;\n",
       "    }\n",
       "\n",
       "    .dataframe thead th {\n",
       "        text-align: right;\n",
       "    }\n",
       "</style>\n",
       "<table border=\"1\" class=\"dataframe\">\n",
       "  <thead>\n",
       "    <tr style=\"text-align: right;\">\n",
       "      <th></th>\n",
       "      <th>Project</th>\n",
       "      <th>Description</th>\n",
       "      <th>StartDate</th>\n",
       "      <th>ExpWeeks</th>\n",
       "      <th>Internal/External</th>\n",
       "      <th>Status</th>\n",
       "    </tr>\n",
       "  </thead>\n",
       "  <tbody>\n",
       "    <tr>\n",
       "      <th>0</th>\n",
       "      <td>ProjA</td>\n",
       "      <td>Analysis</td>\n",
       "      <td>2024-01-01</td>\n",
       "      <td>4</td>\n",
       "      <td>Internal</td>\n",
       "      <td>Active</td>\n",
       "    </tr>\n",
       "    <tr>\n",
       "      <th>1</th>\n",
       "      <td>ProjB</td>\n",
       "      <td>Development</td>\n",
       "      <td>2024-02-01</td>\n",
       "      <td>6</td>\n",
       "      <td>External</td>\n",
       "      <td>Completed</td>\n",
       "    </tr>\n",
       "    <tr>\n",
       "      <th>2</th>\n",
       "      <td>ProjC</td>\n",
       "      <td>Testing</td>\n",
       "      <td>2024-03-01</td>\n",
       "      <td>8</td>\n",
       "      <td>Internal</td>\n",
       "      <td>On Hold</td>\n",
       "    </tr>\n",
       "    <tr>\n",
       "      <th>3</th>\n",
       "      <td>ProjD</td>\n",
       "      <td>Reporting</td>\n",
       "      <td>2024-04-01</td>\n",
       "      <td>3</td>\n",
       "      <td>External</td>\n",
       "      <td>Active</td>\n",
       "    </tr>\n",
       "    <tr>\n",
       "      <th>4</th>\n",
       "      <td>ProjE</td>\n",
       "      <td>Design</td>\n",
       "      <td>2024-05-01</td>\n",
       "      <td>5</td>\n",
       "      <td>Internal</td>\n",
       "      <td>Active</td>\n",
       "    </tr>\n",
       "  </tbody>\n",
       "</table>\n",
       "</div>"
      ],
      "text/plain": [
       "  Project  Description   StartDate  ExpWeeks Internal/External     Status\n",
       "0   ProjA     Analysis  2024-01-01         4          Internal     Active\n",
       "1   ProjB  Development  2024-02-01         6          External  Completed\n",
       "2   ProjC      Testing  2024-03-01         8          Internal    On Hold\n",
       "3   ProjD    Reporting  2024-04-01         3          External     Active\n",
       "4   ProjE       Design  2024-05-01         5          Internal     Active"
      ]
     },
     "execution_count": 87,
     "metadata": {},
     "output_type": "execute_result"
    }
   ],
   "source": [
    "project_list"
   ]
  },
  {
   "cell_type": "code",
   "execution_count": 88,
   "metadata": {},
   "outputs": [],
   "source": [
    "# Step 1: Merge main_table with employee_list to add employee details\n",
    "merged_data = pd.merge(main_table, employee_list, left_on='Employee', right_on='Name', how='left')\n"
   ]
  },
  {
   "cell_type": "code",
   "execution_count": 89,
   "metadata": {},
   "outputs": [
    {
     "data": {
      "text/html": [
       "<div>\n",
       "<style scoped>\n",
       "    .dataframe tbody tr th:only-of-type {\n",
       "        vertical-align: middle;\n",
       "    }\n",
       "\n",
       "    .dataframe tbody tr th {\n",
       "        vertical-align: top;\n",
       "    }\n",
       "\n",
       "    .dataframe thead th {\n",
       "        text-align: right;\n",
       "    }\n",
       "</style>\n",
       "<table border=\"1\" class=\"dataframe\">\n",
       "  <thead>\n",
       "    <tr style=\"text-align: right;\">\n",
       "      <th></th>\n",
       "      <th>Wk</th>\n",
       "      <th>Employee</th>\n",
       "      <th>Project</th>\n",
       "      <th>%Time</th>\n",
       "      <th>Name</th>\n",
       "      <th>Position</th>\n",
       "      <th>Skills</th>\n",
       "      <th>CurrentStatus</th>\n",
       "    </tr>\n",
       "  </thead>\n",
       "  <tbody>\n",
       "    <tr>\n",
       "      <th>0</th>\n",
       "      <td>1</td>\n",
       "      <td>Alice</td>\n",
       "      <td>ProjA</td>\n",
       "      <td>50</td>\n",
       "      <td>Alice</td>\n",
       "      <td>Manager</td>\n",
       "      <td>Python, ML</td>\n",
       "      <td>Active</td>\n",
       "    </tr>\n",
       "    <tr>\n",
       "      <th>1</th>\n",
       "      <td>1</td>\n",
       "      <td>Bob</td>\n",
       "      <td>ProjB</td>\n",
       "      <td>60</td>\n",
       "      <td>Bob</td>\n",
       "      <td>Developer</td>\n",
       "      <td>Java, SQL</td>\n",
       "      <td>Active</td>\n",
       "    </tr>\n",
       "    <tr>\n",
       "      <th>2</th>\n",
       "      <td>1</td>\n",
       "      <td>Alice</td>\n",
       "      <td>ProjC</td>\n",
       "      <td>50</td>\n",
       "      <td>Alice</td>\n",
       "      <td>Manager</td>\n",
       "      <td>Python, ML</td>\n",
       "      <td>Active</td>\n",
       "    </tr>\n",
       "    <tr>\n",
       "      <th>3</th>\n",
       "      <td>2</td>\n",
       "      <td>Charlie</td>\n",
       "      <td>ProjD</td>\n",
       "      <td>80</td>\n",
       "      <td>Charlie</td>\n",
       "      <td>Analyst</td>\n",
       "      <td>R, Analytics</td>\n",
       "      <td>Active</td>\n",
       "    </tr>\n",
       "    <tr>\n",
       "      <th>4</th>\n",
       "      <td>2</td>\n",
       "      <td>Bob</td>\n",
       "      <td>ProjE</td>\n",
       "      <td>40</td>\n",
       "      <td>Bob</td>\n",
       "      <td>Developer</td>\n",
       "      <td>Java, SQL</td>\n",
       "      <td>Active</td>\n",
       "    </tr>\n",
       "  </tbody>\n",
       "</table>\n",
       "</div>"
      ],
      "text/plain": [
       "   Wk Employee Project  %Time     Name   Position        Skills CurrentStatus\n",
       "0   1    Alice   ProjA     50    Alice    Manager    Python, ML        Active\n",
       "1   1      Bob   ProjB     60      Bob  Developer     Java, SQL        Active\n",
       "2   1    Alice   ProjC     50    Alice    Manager    Python, ML        Active\n",
       "3   2  Charlie   ProjD     80  Charlie    Analyst  R, Analytics        Active\n",
       "4   2      Bob   ProjE     40      Bob  Developer     Java, SQL        Active"
      ]
     },
     "execution_count": 89,
     "metadata": {},
     "output_type": "execute_result"
    }
   ],
   "source": [
    "merged_data "
   ]
  },
  {
   "cell_type": "code",
   "execution_count": 99,
   "metadata": {},
   "outputs": [],
   "source": [
    "\n",
    "# Generate Output Table\n",
    "output = main_table.pivot_table(        \n",
    "    index='Employee',\n",
    "    columns='Project',\n",
    "    values= '%Time',\n",
    "    #aggfunc='first'\n",
    ").fillna(0)\n",
    "\n",
    "\n"
   ]
  },
  {
   "cell_type": "code",
   "execution_count": 100,
   "metadata": {},
   "outputs": [
    {
     "data": {
      "text/html": [
       "<div>\n",
       "<style scoped>\n",
       "    .dataframe tbody tr th:only-of-type {\n",
       "        vertical-align: middle;\n",
       "    }\n",
       "\n",
       "    .dataframe tbody tr th {\n",
       "        vertical-align: top;\n",
       "    }\n",
       "\n",
       "    .dataframe thead th {\n",
       "        text-align: right;\n",
       "    }\n",
       "</style>\n",
       "<table border=\"1\" class=\"dataframe\">\n",
       "  <thead>\n",
       "    <tr style=\"text-align: right;\">\n",
       "      <th>Project</th>\n",
       "      <th>ProjA</th>\n",
       "      <th>ProjB</th>\n",
       "      <th>ProjC</th>\n",
       "      <th>ProjD</th>\n",
       "      <th>ProjE</th>\n",
       "    </tr>\n",
       "    <tr>\n",
       "      <th>Employee</th>\n",
       "      <th></th>\n",
       "      <th></th>\n",
       "      <th></th>\n",
       "      <th></th>\n",
       "      <th></th>\n",
       "    </tr>\n",
       "  </thead>\n",
       "  <tbody>\n",
       "    <tr>\n",
       "      <th>Alice</th>\n",
       "      <td>50.0</td>\n",
       "      <td>0.0</td>\n",
       "      <td>50.0</td>\n",
       "      <td>0.0</td>\n",
       "      <td>0.0</td>\n",
       "    </tr>\n",
       "    <tr>\n",
       "      <th>Bob</th>\n",
       "      <td>0.0</td>\n",
       "      <td>60.0</td>\n",
       "      <td>0.0</td>\n",
       "      <td>0.0</td>\n",
       "      <td>40.0</td>\n",
       "    </tr>\n",
       "    <tr>\n",
       "      <th>Charlie</th>\n",
       "      <td>0.0</td>\n",
       "      <td>0.0</td>\n",
       "      <td>0.0</td>\n",
       "      <td>80.0</td>\n",
       "      <td>0.0</td>\n",
       "    </tr>\n",
       "  </tbody>\n",
       "</table>\n",
       "</div>"
      ],
      "text/plain": [
       "Project   ProjA  ProjB  ProjC  ProjD  ProjE\n",
       "Employee                                   \n",
       "Alice      50.0    0.0   50.0    0.0    0.0\n",
       "Bob         0.0   60.0    0.0    0.0   40.0\n",
       "Charlie     0.0    0.0    0.0   80.0    0.0"
      ]
     },
     "execution_count": 100,
     "metadata": {},
     "output_type": "execute_result"
    }
   ],
   "source": [
    "output "
   ]
  },
  {
   "cell_type": "code",
   "execution_count": 92,
   "metadata": {},
   "outputs": [
    {
     "data": {
      "text/plain": [
       "Index(['ProjA', 'ProjB', 'ProjC', 'ProjD', 'ProjE'], dtype='object', name='Project')"
      ]
     },
     "execution_count": 92,
     "metadata": {},
     "output_type": "execute_result"
    }
   ],
   "source": [
    "output.columns"
   ]
  },
  {
   "cell_type": "code",
   "execution_count": 93,
   "metadata": {},
   "outputs": [],
   "source": [
    "# Flatten MultiIndex and rename columns\n",
    "#The code flattens a MultiIndex created by pivot_table() into single-level columns.\n",
    "#output.columns = [f'{col[0]}{col[1]}' for col in output.columns] \n",
    "#output.reset_index(inplace=True)\n",
    "\n"
   ]
  },
  {
   "cell_type": "code",
   "execution_count": 98,
   "metadata": {},
   "outputs": [
    {
     "data": {
      "text/html": [
       "<div>\n",
       "<style scoped>\n",
       "    .dataframe tbody tr th:only-of-type {\n",
       "        vertical-align: middle;\n",
       "    }\n",
       "\n",
       "    .dataframe tbody tr th {\n",
       "        vertical-align: top;\n",
       "    }\n",
       "\n",
       "    .dataframe thead th {\n",
       "        text-align: right;\n",
       "    }\n",
       "</style>\n",
       "<table border=\"1\" class=\"dataframe\">\n",
       "  <thead>\n",
       "    <tr style=\"text-align: right;\">\n",
       "      <th>Project</th>\n",
       "      <th>ProjA</th>\n",
       "      <th>ProjB</th>\n",
       "      <th>ProjC</th>\n",
       "      <th>ProjD</th>\n",
       "      <th>ProjE</th>\n",
       "    </tr>\n",
       "    <tr>\n",
       "      <th>Employee</th>\n",
       "      <th></th>\n",
       "      <th></th>\n",
       "      <th></th>\n",
       "      <th></th>\n",
       "      <th></th>\n",
       "    </tr>\n",
       "  </thead>\n",
       "  <tbody>\n",
       "    <tr>\n",
       "      <th>Alice</th>\n",
       "      <td>50.0</td>\n",
       "      <td>NaN</td>\n",
       "      <td>50.0</td>\n",
       "      <td>NaN</td>\n",
       "      <td>NaN</td>\n",
       "    </tr>\n",
       "    <tr>\n",
       "      <th>Bob</th>\n",
       "      <td>NaN</td>\n",
       "      <td>60.0</td>\n",
       "      <td>NaN</td>\n",
       "      <td>NaN</td>\n",
       "      <td>40.0</td>\n",
       "    </tr>\n",
       "    <tr>\n",
       "      <th>Charlie</th>\n",
       "      <td>NaN</td>\n",
       "      <td>NaN</td>\n",
       "      <td>NaN</td>\n",
       "      <td>80.0</td>\n",
       "      <td>NaN</td>\n",
       "    </tr>\n",
       "  </tbody>\n",
       "</table>\n",
       "</div>"
      ],
      "text/plain": [
       "Project   ProjA  ProjB  ProjC  ProjD  ProjE\n",
       "Employee                                   \n",
       "Alice      50.0    NaN   50.0    NaN    NaN\n",
       "Bob         NaN   60.0    NaN    NaN   40.0\n",
       "Charlie     NaN    NaN    NaN   80.0    NaN"
      ]
     },
     "execution_count": 98,
     "metadata": {},
     "output_type": "execute_result"
    }
   ],
   "source": [
    "output"
   ]
  },
  {
   "cell_type": "markdown",
   "metadata": {},
   "source": [
    "### Output Table\n",
    "\n",
    " \n",
    "- Name\n",
    "- Project1\n",
    "- %Time1\t\n",
    "- Project2\t\n",
    "- %Time2\t\n",
    "- Project3\t\n",
    "- %Time3\n"
   ]
  },
  {
   "cell_type": "code",
   "execution_count": null,
   "metadata": {},
   "outputs": [],
   "source": []
  },
  {
   "cell_type": "code",
   "execution_count": null,
   "metadata": {},
   "outputs": [],
   "source": []
  }
 ],
 "metadata": {
  "kernelspec": {
   "display_name": "base",
   "language": "python",
   "name": "python3"
  },
  "language_info": {
   "codemirror_mode": {
    "name": "ipython",
    "version": 3
   },
   "file_extension": ".py",
   "mimetype": "text/x-python",
   "name": "python",
   "nbconvert_exporter": "python",
   "pygments_lexer": "ipython3",
   "version": "3.12.3"
  }
 },
 "nbformat": 4,
 "nbformat_minor": 2
}
